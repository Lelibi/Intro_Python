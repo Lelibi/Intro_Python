{
  "nbformat": 4,
  "nbformat_minor": 0,
  "metadata": {
    "colab": {
      "provenance": [],
      "authorship_tag": "ABX9TyOa3GrrntRmAAB5UVjc1jXo",
      "include_colab_link": true
    },
    "kernelspec": {
      "name": "python3",
      "display_name": "Python 3"
    },
    "language_info": {
      "name": "python"
    }
  },
  "cells": [
    {
      "cell_type": "markdown",
      "metadata": {
        "id": "view-in-github",
        "colab_type": "text"
      },
      "source": [
        "<a href=\"https://colab.research.google.com/github/Lelibi/Intro_Python/blob/main/Intro_Python.ipynb\" target=\"_parent\"><img src=\"https://colab.research.google.com/assets/colab-badge.svg\" alt=\"Open In Colab\"/></a>"
      ]
    },
    {
      "cell_type": "markdown",
      "source": [
        "## **Intrudoção ao Python**"
      ],
      "metadata": {
        "id": "Ggpa7_3eFyIy"
      }
    },
    {
      "cell_type": "markdown",
      "source": [
        "Python é uma linguagem de programação de alto nível, interpretada, dinâmica e multiuso. É conhecida por sua sintaxe simples e legibilidade, o que a torna uma escolha popular tanto para iniciantes quanto para desenvolvedores experientes. Python suporta múltiplos paradigmas de programação, incluindo programação orientada a objetos, programação funcional e programação imperativa. É amplamente utilizado em diversas áreas, como desenvolvimento web, automação de sistemas, ciência de dados, inteligência artificial, entre outras, devido à sua vasta biblioteca padrão e à disponibilidade de bibliotecas de terceiros."
      ],
      "metadata": {
        "id": "kQ6nChp7F5Hn"
      }
    },
    {
      "cell_type": "code",
      "execution_count": null,
      "metadata": {
        "colab": {
          "base_uri": "https://localhost:8080/",
          "height": 70
        },
        "id": "0dm6d3T3u_ly",
        "outputId": "0671d9f9-0616-4b89-9847-4befe174b2dd"
      },
      "outputs": [
        {
          "name": "stdout",
          "output_type": "stream",
          "text": [
            "Hello World\n",
            "Digite seu nome: Leandro\n"
          ]
        },
        {
          "output_type": "execute_result",
          "data": {
            "text/plain": [
              "'Leandro'"
            ],
            "application/vnd.google.colaboratory.intrinsic+json": {
              "type": "string"
            }
          },
          "metadata": {},
          "execution_count": 10
        }
      ],
      "source": [
        "#Imprimir texto\n",
        "print(\"Hello World\")\n",
        "\n",
        "#Inserir dados do usuario\n",
        "input(\"Digite seu nome: \")"
      ]
    },
    {
      "cell_type": "markdown",
      "source": [
        "## **Variáveis**"
      ],
      "metadata": {
        "id": "4X9cdkmnvOyG"
      }
    },
    {
      "cell_type": "code",
      "source": [
        "idade = 26\n",
        "print(idade)\n",
        "\n",
        "nome = \"Leandro\"\n",
        "print(nome)"
      ],
      "metadata": {
        "colab": {
          "base_uri": "https://localhost:8080/"
        },
        "id": "Gto-k1FYvxc1",
        "outputId": "d7e33f84-e43d-46e0-b78c-12cb92fce715"
      },
      "execution_count": null,
      "outputs": [
        {
          "output_type": "stream",
          "name": "stdout",
          "text": [
            "26\n",
            "Leandro\n"
          ]
        }
      ]
    },
    {
      "cell_type": "code",
      "source": [
        "# Tipos de variáveis\n",
        "\n",
        "name = \"Leandro\"\n",
        "print(type(name))  # <class 'str'>\n",
        "\n",
        "age = 30\n",
        "print(type(age))  # <class 'int'>\n",
        "\n",
        "height = 1.75\n",
        "print(type(height))  # <class 'float'>\n",
        "\n",
        "is_student = True\n",
        "print(type(is_student))  # <class 'bool'>\n",
        "\n",
        "favorite_colors = [\"blue\", \"green\", \"yellow\"]\n",
        "print(type(favorite_colors))  # <class 'list'>\n",
        "\n",
        "person = {\"name\": \"Leandro\", \"age\": 30, \"height\": 1.75}\n",
        "print(type(person))  # <class 'dict'>\n",
        "\n",
        "unique_colors = {\"blue\", \"green\", \"yellow\"}\n",
        "print(type(unique_colors))  # <class 'set'>\n",
        "\n",
        "coordinates = (37.7749, -122.4194)\n",
        "print(type(coordinates))  # <class 'tuple'>"
      ],
      "metadata": {
        "colab": {
          "base_uri": "https://localhost:8080/"
        },
        "id": "mSwDPWZSw9xH",
        "outputId": "71776bce-8483-40cc-8f8d-524e6443e06e"
      },
      "execution_count": null,
      "outputs": [
        {
          "output_type": "stream",
          "name": "stdout",
          "text": [
            "<class 'str'>\n",
            "<class 'int'>\n",
            "<class 'float'>\n",
            "<class 'bool'>\n",
            "<class 'list'>\n",
            "<class 'dict'>\n",
            "<class 'set'>\n",
            "<class 'tuple'>\n"
          ]
        }
      ]
    },
    {
      "cell_type": "code",
      "source": [
        "# salvar a variavel com resposta do usuario\n",
        "\n",
        "name = input(\"Digite seu nome: \")\n",
        "print(\"O nome do usuario é\", name)"
      ],
      "metadata": {
        "colab": {
          "base_uri": "https://localhost:8080/"
        },
        "id": "qqgR-n7Cyrb8",
        "outputId": "ca9e7085-070c-4f3b-e744-e74584a3720e"
      },
      "execution_count": null,
      "outputs": [
        {
          "output_type": "stream",
          "name": "stdout",
          "text": [
            "Digite seu nome: Leandro\n",
            "O nome do usuario é Leandro\n"
          ]
        }
      ]
    },
    {
      "cell_type": "markdown",
      "source": [
        "# **Operações aritimeticas**"
      ],
      "metadata": {
        "id": "juuOn5sUNvSS"
      }
    },
    {
      "cell_type": "code",
      "source": [
        "a = 5\n",
        "b = 10\n",
        "\n",
        "# Addition\n",
        "print(a + b)  # Output: 15\n",
        "\n",
        "# Subtraction\n",
        "print(a - b)  # Output: -5\n",
        "\n",
        "# Multiplication\n",
        "print(a * b)  # Output: 50\n",
        "\n",
        "# Division\n",
        "print(a / b)  # Output: 0.5\n",
        "\n",
        "# Floor division\n",
        "print(a // b)  # Output: 0\n",
        "\n",
        "# Exponentiation\n",
        "print(a ** b)  # Output: 9765625\n",
        "\n",
        "# Modulo\n",
        "print(a % b)  # Output: 5"
      ],
      "metadata": {
        "colab": {
          "base_uri": "https://localhost:8080/"
        },
        "id": "bxqvF3AGN2XO",
        "outputId": "2efd9be4-9544-4f26-c820-9dfd5eda440c"
      },
      "execution_count": null,
      "outputs": [
        {
          "output_type": "stream",
          "name": "stdout",
          "text": [
            "15\n",
            "-5\n",
            "50\n",
            "0.5\n",
            "0\n",
            "9765625\n",
            "5\n"
          ]
        }
      ]
    },
    {
      "cell_type": "markdown",
      "source": [
        "# **Operadores Booleanos**"
      ],
      "metadata": {
        "id": "OMeqO_oXQ5fI"
      }
    },
    {
      "cell_type": "code",
      "source": [
        "a = 5\n",
        "b = 10\n",
        "\n",
        "# Equal to\n",
        "print(a == b)\n",
        "\n",
        "# Not equal to\n",
        "print(a != b)\n",
        "\n",
        "# Greater than\n",
        "print(a > b)\n",
        "\n",
        "# Less than\n",
        "print(a < b)\n",
        "\n",
        "# Greater than or equal to\n",
        "print(a >= b)\n",
        "\n",
        "# Less than or equal to\n",
        "print(b <= a)"
      ],
      "metadata": {
        "colab": {
          "base_uri": "https://localhost:8080/"
        },
        "id": "fRY8AOXPQ-Ux",
        "outputId": "384aa19d-7b0b-452b-a3bb-551f4ca40f30"
      },
      "execution_count": null,
      "outputs": [
        {
          "output_type": "stream",
          "name": "stdout",
          "text": [
            "False\n",
            "True\n",
            "False\n",
            "True\n",
            "False\n",
            "False\n"
          ]
        }
      ]
    },
    {
      "cell_type": "markdown",
      "source": [
        "## **Conversão de tipos**"
      ],
      "metadata": {
        "id": "eldwQe4MRshn"
      }
    },
    {
      "cell_type": "code",
      "source": [
        "# convert integer to string\n",
        "a = 123\n",
        "b = str(a)\n",
        "\n",
        "# convert string to integer\n",
        "c = \"456\"\n",
        "d = int(c)\n",
        "\n",
        "# convert integer to float\n",
        "e = 789\n",
        "f = float(e)\n",
        "\n",
        "# convert float to integer\n",
        "g = 10.11\n",
        "h = int(g)\n",
        "\n",
        "# convert integer to boolean\n",
        "i = 1\n",
        "j = bool(i)\n",
        "\n",
        "# convert string to boolean\n",
        "k = \"True\"\n",
        "l = bool(k)"
      ],
      "metadata": {
        "id": "eyScD5X5RHhP"
      },
      "execution_count": null,
      "outputs": []
    },
    {
      "cell_type": "code",
      "source": [
        "a = 41\n",
        "b = 20\n",
        "c = 30\n",
        "\n",
        "if a > b and a > c:\n",
        "\n",
        "  resposta = a % 2 == 0\n",
        "\n",
        "print(a % 2)\n",
        "print(resposta)"
      ],
      "metadata": {
        "colab": {
          "base_uri": "https://localhost:8080/"
        },
        "id": "THUJ1_y3u7TW",
        "outputId": "6234d4e8-f883-4d60-907d-227367b5cb3f"
      },
      "execution_count": null,
      "outputs": [
        {
          "output_type": "stream",
          "name": "stdout",
          "text": [
            "1\n",
            "False\n"
          ]
        }
      ]
    },
    {
      "cell_type": "markdown",
      "source": [
        "## **Estruturas condicionais**"
      ],
      "metadata": {
        "id": "5TuwvVvK6utV"
      }
    },
    {
      "cell_type": "code",
      "source": [
        "# Você é maior de idade\n",
        "idade = 18\n",
        "\n",
        "if idade >= 18:\n",
        "  print(\"Você é maior de idade.\")\n",
        "elif idade == 17:\n",
        "  print(\"Você tem 17 anos.\")\n",
        "else:\n",
        "  print(\"Você é menor de idade.\")"
      ],
      "metadata": {
        "colab": {
          "base_uri": "https://localhost:8080/"
        },
        "id": "H2dQ24pr698a",
        "outputId": "4ad91579-2882-4f5b-8efa-b10d2f2a28c6"
      },
      "execution_count": null,
      "outputs": [
        {
          "output_type": "stream",
          "name": "stdout",
          "text": [
            "Você é maior de idade.\n"
          ]
        }
      ]
    },
    {
      "cell_type": "code",
      "source": [
        "# Você foi aprovado\n",
        "nota = 7\n",
        "\n",
        "if nota >= 7:\n",
        "  print(\"Aprovado\")\n",
        "elif nota == 5:\n",
        "  print(\"Média\")\n",
        "else:\n",
        "  print(\"Reprovado\")"
      ],
      "metadata": {
        "colab": {
          "base_uri": "https://localhost:8080/"
        },
        "id": "0wpkuZi770-V",
        "outputId": "f56ca57d-d90c-457c-ba3a-bf222412252b"
      },
      "execution_count": null,
      "outputs": [
        {
          "output_type": "stream",
          "name": "stdout",
          "text": [
            "Aprovado\n"
          ]
        }
      ]
    },
    {
      "cell_type": "code",
      "source": [
        "nora = float(input(\"Digite a nota da Nora: \"))\n",
        "\n",
        "if nora >= 5:\n",
        "    print(\"Aprovada\")\n",
        "elif 3 <= nora <= 4.9:\n",
        "    print(\"Recuperação\")\n",
        "else:\n",
        "    print(\"Reprovada\")"
      ],
      "metadata": {
        "colab": {
          "base_uri": "https://localhost:8080/"
        },
        "id": "E6urk--688rI",
        "outputId": "a6e91986-cc8b-4d76-96a6-6135acbdab43"
      },
      "execution_count": null,
      "outputs": [
        {
          "output_type": "stream",
          "name": "stdout",
          "text": [
            "Digite a nota da Nora: 7\n",
            "Aprovada\n"
          ]
        }
      ]
    },
    {
      "cell_type": "markdown",
      "source": [
        "## **Laçõs de repetição (While)**"
      ],
      "metadata": {
        "id": "_Aojr0xh-WhI"
      }
    },
    {
      "cell_type": "code",
      "source": [
        "# Defina o número secreto.\n",
        "numero_secreto = 10\n",
        "\n",
        "# Inicialize uma flag para indicar se o número foi adivinhado.\n",
        "adivinhado = False\n",
        "\n",
        "# Loop até que o número seja adivinhado.\n",
        "while not adivinhado:\n",
        "  chute = int(input(\"Adivinhe um número: \"))\n",
        "\n",
        "  if chute == 10:\n",
        "    adivinhado = True\n",
        "    print(\"Você acertou!\")\n",
        "  else:\n",
        "    print(\"Tente novamente.\")\n",
        "\n",
        "# Verifique"
      ],
      "metadata": {
        "colab": {
          "base_uri": "https://localhost:8080/"
        },
        "id": "coVvBAqF-dcA",
        "outputId": "92e872c8-381b-4af8-962f-d20b195e4bb4"
      },
      "execution_count": null,
      "outputs": [
        {
          "output_type": "stream",
          "name": "stdout",
          "text": [
            "Adivinhe um número: 10\n",
            "Você acertou!\n"
          ]
        }
      ]
    },
    {
      "cell_type": "markdown",
      "source": [
        "## **Laçõs de repetição (For)**"
      ],
      "metadata": {
        "id": "PRlo-CEKDfnS"
      }
    },
    {
      "cell_type": "code",
      "source": [
        "# Example 1: Iterating over a range of numbers\n",
        "for i in range(5):\n",
        "  print(i)\n",
        "\n",
        "print(\"pula linha\")\n",
        "\n",
        "# Example 2: Iterating over a range of numbers with a specific step\n",
        "for i in range(0, 10, 2):\n",
        "  print(i)\n",
        "\n",
        "print(\"pula linha\")\n",
        "\n",
        "# Example 3: Iterating over a range of characters\n",
        "for letter in range(ord('a'), ord('z') + 1):\n",
        "  print(chr(letter))"
      ],
      "metadata": {
        "colab": {
          "base_uri": "https://localhost:8080/"
        },
        "id": "vEfuqOSCDtEi",
        "outputId": "c6fc9682-7da3-4097-f6ed-e5cf3b7d4fa5"
      },
      "execution_count": null,
      "outputs": [
        {
          "output_type": "stream",
          "name": "stdout",
          "text": [
            "0\n",
            "1\n",
            "2\n",
            "3\n",
            "4\n",
            "pula linha\n",
            "0\n",
            "2\n",
            "4\n",
            "6\n",
            "8\n",
            "pula linha\n",
            "a\n",
            "b\n",
            "c\n",
            "d\n",
            "e\n",
            "f\n",
            "g\n",
            "h\n",
            "i\n",
            "j\n",
            "k\n",
            "l\n",
            "m\n",
            "n\n",
            "o\n",
            "p\n",
            "q\n",
            "r\n",
            "s\n",
            "t\n",
            "u\n",
            "v\n",
            "w\n",
            "x\n",
            "y\n",
            "z\n"
          ]
        }
      ]
    },
    {
      "cell_type": "code",
      "source": [
        "# média das notas\n",
        "\n",
        "# Inicializar variáveis\n",
        "total = 0\n",
        "contador = 0\n",
        "\n",
        "# Loop para somar as notas\n",
        "for i in range(3):\n",
        "  nota = float(input(\"Digite a nota da prova \" + str(i + 1) + \": \"))\n",
        "  total += nota\n",
        "  contador += 1\n",
        "\n",
        "# Calcular a média\n",
        "media = total / contador\n",
        "\n",
        "# Imprimir os resultados\n",
        "print(\"Total de pontos:\", total)\n",
        "print(\"Média:\", media)"
      ],
      "metadata": {
        "colab": {
          "base_uri": "https://localhost:8080/"
        },
        "id": "C0mJknmdE_5b",
        "outputId": "6f30a7da-cb55-47a8-a922-49b3dbc87df2"
      },
      "execution_count": null,
      "outputs": [
        {
          "output_type": "stream",
          "name": "stdout",
          "text": [
            "Digite a nota da prova 1: 5\n",
            "Digite a nota da prova 2: 6\n",
            "Digite a nota da prova 3: 9\n",
            "Total de pontos: 20.0\n",
            "Média: 6.666666666666667\n"
          ]
        }
      ]
    },
    {
      "cell_type": "markdown",
      "source": [
        "## **Listas**"
      ],
      "metadata": {
        "id": "qrSplsaQZ4wY"
      }
    },
    {
      "cell_type": "code",
      "source": [
        "lista_nomes = [\"Alice\", \"Bob\", \"Charlie\", \"Diana\", \"Eve\", \"Frank\", \"George\", \"Hannah\", \"Ivan\", \"Julia\"]\n",
        "#indice\n",
        "print(listas_nomes[2])\n",
        "\n",
        "#slice\n",
        "nova_lista = lista_nomes[2:7]\n",
        "print(nova_lista)\n",
        "\n",
        "# Percorrer todos os nomes\n",
        "for nome in lista_nomes:\n",
        "  print(nome)"
      ],
      "metadata": {
        "colab": {
          "base_uri": "https://localhost:8080/"
        },
        "id": "2Fi-5ssWZ8Nd",
        "outputId": "1142ed38-49c1-4c20-e408-d661aaf6f26b"
      },
      "execution_count": null,
      "outputs": [
        {
          "output_type": "stream",
          "name": "stdout",
          "text": [
            "Charlie\n",
            "['Charlie', 'Diana', 'Eve', 'Frank', 'George']\n",
            "Alice\n",
            "Bob\n",
            "Charlie\n",
            "Diana\n",
            "Eve\n",
            "Frank\n",
            "George\n",
            "Hannah\n",
            "Ivan\n",
            "Julia\n"
          ]
        }
      ]
    },
    {
      "cell_type": "code",
      "source": [
        "#Metodos de lista\n",
        "\n",
        "# Cria uma lista vazia\n",
        "lista = []\n",
        "\n",
        "# Adiciona elementos à lista\n",
        "lista.append(\"maçã\")\n",
        "lista.append(\"banana\")\n",
        "lista.append(\"laranja\")\n",
        "\n",
        "# Imprime a lista\n",
        "print(\"Lista:\", lista)\n",
        "\n",
        "# Imprime o tamanho da lista\n",
        "print(\"Tamanho da lista:\", len(lista))\n",
        "\n",
        "# Acessa o primeiro elemento da lista\n",
        "print(\"Primeiro elemento:\", lista[0])\n",
        "\n",
        "# Acessa o último elemento da lista\n",
        "print(\"Último elemento:\", lista[-1])\n",
        "\n",
        "# Remove o último elemento da lista\n",
        "lista.pop()\n",
        "print(\"Lista após remover o último elemento:\", lista)\n",
        "\n",
        "# Insere um elemento na posição 1\n",
        "lista.insert(1, \"abacaxi\")\n",
        "print(\"Lista após inserir um elemento na posição 1:\", lista)\n",
        "\n",
        "# Verifica se um elemento está na lista\n",
        "if \"laranja\" in lista:\n",
        "    print(\"'laranja' está na lista\")\n",
        "\n",
        "# Remove todos os elementos da lista\n",
        "lista.clear()\n",
        "print(\"Lista após remover todos os elementos:\", lista)\n",
        "\n",
        "#Inserir uma lista em outra\n",
        "lista = ['maçã', 'banana', 'laranja']\n",
        "lista.extend([\"maçã\", \"banana\", \"laranja\"])\n",
        "print(lista)"
      ],
      "metadata": {
        "colab": {
          "base_uri": "https://localhost:8080/"
        },
        "id": "SfhPVDJWgZIP",
        "outputId": "f8f3ed8b-3e02-4b71-fefe-ee3c52fd9d23"
      },
      "execution_count": null,
      "outputs": [
        {
          "output_type": "stream",
          "name": "stdout",
          "text": [
            "Lista: ['maçã', 'banana', 'laranja']\n",
            "Tamanho da lista: 3\n",
            "Primeiro elemento: maçã\n",
            "Último elemento: laranja\n",
            "Lista após remover o último elemento: ['maçã', 'banana']\n",
            "Lista após inserir um elemento na posição 1: ['maçã', 'abacaxi', 'banana']\n",
            "Lista após remover todos os elementos: []\n",
            "['maçã', 'banana', 'laranja', 'maçã', 'banana', 'laranja']\n"
          ]
        }
      ]
    },
    {
      "cell_type": "code",
      "source": [
        "#Outros métodos\n",
        "\n",
        "# Crie uma lista\n",
        "lista = [5, 3, 1, 2, 4]\n",
        "\n",
        "# Use o método sort para ordenar a lista\n",
        "lista.sort()\n",
        "print(f\"Lista ordenada: {lista}\")\n",
        "\n",
        "# Use o método remove para remover o elemento 3 da lista\n",
        "lista.remove(3)\n",
        "print(f\"Lista após remover o elemento 3: {lista}\")\n",
        "\n",
        "# Use o método index para encontrar o índice do elemento 2 na lista\n",
        "print(f\"Índice do elemento 2: {lista.index(2)}\")"
      ],
      "metadata": {
        "colab": {
          "base_uri": "https://localhost:8080/"
        },
        "id": "xNvD9lH7lKVf",
        "outputId": "6049b948-f07c-4b02-8f5e-afb8aaa65e01"
      },
      "execution_count": null,
      "outputs": [
        {
          "output_type": "stream",
          "name": "stdout",
          "text": [
            "Lista ordenada: [1, 2, 3, 4, 5]\n",
            "Lista após remover o elemento 3: [1, 2, 4, 5]\n",
            "Índice do elemento 2: 1\n"
          ]
        }
      ]
    },
    {
      "cell_type": "markdown",
      "source": [
        "## **Funções**"
      ],
      "metadata": {
        "id": "qjLH9wW4HiHW"
      }
    },
    {
      "cell_type": "code",
      "source": [
        "def cumprimentar(nome):\n",
        "  \"\"\"\n",
        "  Esta função recebe um nome e imprime uma mensagem de cumprimento.\n",
        "  \"\"\"\n",
        "  print(f\"Olá, {nome}!\")\n",
        "\n",
        "nome  = \"leandro\"\n",
        "cumprimentar(nome)\n",
        "\n",
        "nome  = \"Leh\"\n",
        "cumprimentar(nome)"
      ],
      "metadata": {
        "colab": {
          "base_uri": "https://localhost:8080/"
        },
        "id": "f4WkaaMFHnoe",
        "outputId": "f22e9af0-df4e-4f88-ee24-12ec265db057"
      },
      "execution_count": null,
      "outputs": [
        {
          "output_type": "stream",
          "name": "stdout",
          "text": [
            "Olá, leandro!\n",
            "Olá, Leh!\n"
          ]
        }
      ]
    },
    {
      "cell_type": "code",
      "source": [
        "# Função com pararametro default\n",
        "def soma(a, b=1):\n",
        "  \"\"\"\n",
        "  Esta função soma dois números, mas o segundo parâmetro tem valor padrão 1.\n",
        "  \"\"\"\n",
        "  return a, b + 1\n",
        "\n",
        "# Chamando a função com dois parâmetros\n",
        "print(soma(5, 10))\n",
        "\n",
        "# Chamando a função com um parâmetro, usando o valor padrão para o segundo parâmetro\n",
        "print(soma(5))"
      ],
      "metadata": {
        "colab": {
          "base_uri": "https://localhost:8080/"
        },
        "id": "BUiIoEdkLygx",
        "outputId": "7412a37f-b065-4b39-baa0-3e47f1e2462c"
      },
      "execution_count": null,
      "outputs": [
        {
          "output_type": "stream",
          "name": "stdout",
          "text": [
            "(5, 11)\n",
            "(5, 2)\n"
          ]
        }
      ]
    },
    {
      "cell_type": "markdown",
      "source": [
        "## **Dicionário**"
      ],
      "metadata": {
        "id": "0aXHCujLNZbf"
      }
    },
    {
      "cell_type": "code",
      "source": [
        "dicionario = {\n",
        "    \"chave1\": \"valor1\",\n",
        "    \"chave2\": \"valor2\",\n",
        "    \"chave3\": \"valor3\"\n",
        "}"
      ],
      "metadata": {
        "id": "9B6oDuMPRFet"
      },
      "execution_count": null,
      "outputs": []
    },
    {
      "cell_type": "code",
      "source": [
        "# Criar um dicionário\n",
        "dicionario = {\"nome\": \"João\", \"idade\": 25, \"cidade\": \"São Paulo\"}\n",
        "print(dicionario)  # Saída: {'nome': 'João', 'idade': 25, 'cidade': 'São Paulo'}\n",
        "\n",
        "# Acessar um valor do dicionário\n",
        "nome = dicionario[\"nome\"]\n",
        "print(nome)  # Saída: João\n",
        "\n",
        "# Adicionar um novo par chave-valor ao dicionário\n",
        "dicionario[\"profissão\"] = \"Engenheiro\"\n",
        "print(dicionario)  # Saída: {'nome': 'João', 'idade': 25, 'cidade': 'São Paulo', 'profissão': 'Engenheiro'}\n",
        "\n",
        "# Atualizar um valor do dicionário\n",
        "dicionario[\"idade\"] = 26\n",
        "print(dicionario)  # Saída: {'nome': 'João', 'idade': 26, 'cidade': 'São Paulo', 'profissão': 'Engenheiro'}\n",
        "\n",
        "# Remover um par chave-valor do dicionário\n",
        "del dicionario[\"cidade\"]\n",
        "print(dicionario)  # Saída: {'nome': 'João', 'idade': 26, 'profissão': 'Engenheiro'}\n",
        "\n",
        "# existe a chave no dicionário\n",
        "print(\"nome\" in dicionario) # Saída = True\n",
        "print(\"cidade\" in dicionario) # Saída = False"
      ],
      "metadata": {
        "colab": {
          "base_uri": "https://localhost:8080/"
        },
        "id": "h0M3emx1Nd2M",
        "outputId": "a3cceb8a-0ce5-4a88-90d2-7e200bd05625"
      },
      "execution_count": null,
      "outputs": [
        {
          "output_type": "stream",
          "name": "stdout",
          "text": [
            "{'nome': 'João', 'idade': 25, 'cidade': 'São Paulo'}\n",
            "João\n",
            "{'nome': 'João', 'idade': 25, 'cidade': 'São Paulo', 'profissão': 'Engenheiro'}\n",
            "{'nome': 'João', 'idade': 26, 'cidade': 'São Paulo', 'profissão': 'Engenheiro'}\n",
            "{'nome': 'João', 'idade': 26, 'profissão': 'Engenheiro'}\n",
            "True\n",
            "False\n"
          ]
        }
      ]
    }
  ]
}